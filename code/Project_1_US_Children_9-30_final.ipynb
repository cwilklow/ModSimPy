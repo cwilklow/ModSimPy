{
 "cells": [
  {
   "cell_type": "markdown",
   "metadata": {},
   "source": [
    "# Modeling and Simulation in Python-Project 1\n",
    "\n",
    "\n",
    "Dhara Patel and Corinne Wilklow \n",
    "\n",
    "Copyright 2018 Allen Downey\n",
    "\n",
    "License: [Creative Commons Attribution 4.0 International](https://creativecommons.org/licenses/by/4.0)\n"
   ]
  },
  {
   "cell_type": "code",
   "execution_count": 33,
   "metadata": {},
   "outputs": [
    {
     "name": "stdout",
     "output_type": "stream",
     "text": [
      "done\n"
     ]
    }
   ],
   "source": [
    "# Configure Jupyter so figures appear in the notebook\n",
    "%matplotlib inline\n",
    "\n",
    "# Configure Jupyter to display the assigned value after an assignment\n",
    "%config InteractiveShell.ast_node_interactivity='last_expr_or_assign'\n",
    "\n",
    "# import functions from the modsim library\n",
    "from modsim import *\n",
    "\n",
    "from pandas import read_html\n",
    "\n",
    "print('done')"
   ]
  },
  {
   "cell_type": "code",
   "execution_count": 34,
   "metadata": {},
   "outputs": [
    {
     "name": "stdout",
     "output_type": "stream",
     "text": [
      "             population\n",
      "Censusyear             \n",
      "1910.0       92228496.0\n",
      "1920.0      106021537.0\n",
      "1930.0      123202624.0\n",
      "1940.0      132164569.0\n",
      "1950.0      151325798.0\n",
      "1960.0      179323175.0\n",
      "1970.0      203211926.0\n",
      "1980.0      226545805.0\n",
      "1990.0      248709873.0\n",
      "2000.0      281421906.0\n",
      "2010.0      308745538.0\n"
     ]
    }
   ],
   "source": [
    "# Importing Population Data\n",
    "filename = 'data/US_Population_data.html'\n",
    "tables = read_html(filename, header=0, index_col=0, decimal='M')\n",
    "table = tables[3]\n",
    "table1 = table[1910.0:2010.0]\n",
    "table1.columns = ['population']\n",
    "print(table1)"
   ]
  },
  {
   "cell_type": "markdown",
   "metadata": {},
   "source": [
    "<bk> \n",
    "    The state: initial child population, initial United States population\n",
    "\n",
    "The system: birth rates, child mortality rates, mature rates(birth rates 18 years prior)\n",
    "\n",
    "Metrics: annual child population"
   ]
  },
  {
   "cell_type": "code",
   "execution_count": 35,
   "metadata": {},
   "outputs": [],
   "source": [
    "def plot_results(population, childseries, title):\n",
    "    \"\"\"Plot the estimates and the model.\n",
    "    \n",
    "    population: TimeSeries of historical population data\n",
    "    childseries: TimeSeries of child population estimates\n",
    "    title: string\n",
    "    \"\"\"\n",
    "    plot(population, ':', label='US Population')\n",
    "    if len(childseries):\n",
    "        plot(childseries, color='gray', label='US Children')\n",
    "       # plot(ratioseries, label='Ratio of children')\n",
    "    decorate(xlabel='Year', \n",
    "             ylabel='Population (million)',\n",
    "             title=title)"
   ]
  },
  {
   "cell_type": "code",
   "execution_count": 36,
   "metadata": {},
   "outputs": [],
   "source": [
    "def plot_ratio(ratioseries, title):\n",
    "    \"\"\"Plot the estimates and the model.\n",
    "    \n",
    "    population: TimeSeries of historical population data\n",
    "    childseries: TimeSeries of child population estimates\n",
    "    title: string\n",
    "    \"\"\"\n",
    "    if len(ratioseries):\n",
    "        plot(ratioseries, color='gray', label='Ratio of Children')\n",
    "       # plot(ratioseries, label='Ratio of children')\n",
    "    decorate(xlabel='Year', \n",
    "             ylabel='Population (million)',\n",
    "             title=title)"
   ]
  },
  {
   "cell_type": "code",
   "execution_count": 37,
   "metadata": {},
   "outputs": [
    {
     "data": {
      "image/png": "[encoded data removed]",
      "text/plain": [
       "<Figure size 432x288 with 1 Axes>"
      ]
     },
     "metadata": {},
     "output_type": "display_data"
    }
   ],
   "source": [
    "population = table1.population / 1e6\n",
    "childseries = TimeSeries()\n",
    "ratioseries = TimeSeries()\n",
    "plot_results(population, childseries, 'U.S. population')"
   ]
  },
  {
   "cell_type": "markdown",
   "metadata": {},
   "source": [
    "## Why is the proportion of children in the United States decreasing?\n",
    "<bk>\n",
    "    Over the past two decades, the United States population grew by about 20%. During the same time frame, the nation’s child population grew by only 5%. The population all around the world is aging, and children represent a smaller and smaller share of it. There are other countries in which this decrease is more dramatic, such as Germany or Japan which no longer have a positive natural increase in population. A decreasing proportion of children is a problem because the issue will only compound over time, until the population as a whole begins to decline. \n",
    "<bk>\n",
    "The decreasing ratio of children could be due to several factors: declining fertility rates, an aging population, and a drop in net immigration levels. Our model focuses on the effects of fertility rates and child mortality rates on proportions of children in the US. Specifically, if we sweep birthrates and child mortality rates, what effects does that have on the population as a whole? Could changing birth rates and death rates account for the entirety of the changing demographics? We will use US Census data from 1910-2010 to compare to our results.\n"
   ]
  },
  {
   "cell_type": "code",
   "execution_count": 38,
   "metadata": {},
   "outputs": [
    {
     "name": "stdout",
     "output_type": "stream",
     "text": [
      "[29.06, 25.03, 19.22, 22.63, 24.86, 20.33, 15.57, 15.83, 15.08, 13.97]\n",
      "[0.0065     0.00612222 0.00574444 0.00536667 0.00498889 0.00461111\n",
      " 0.00423333 0.00385556 0.00347778 0.0031    ]\n",
      "[31.5, 29.06, 25.03, 19.22, 22.63, 24.86, 20.33, 15.57, 15.83, 15.08]\n"
     ]
    }
   ],
   "source": [
    "#sweeping both the mortality rate and the birth rate will make the model more accurate \n",
    "birthrate = [29.06, 25.03, 19.22, 22.63, 24.86, 20.33, 15.57, 15.83, 15.08, 13.97]\n",
    "deathrate = linspace(0.0065, 0.0031, 10)\n",
    "maturerate = [31.5, 29.06, 25.03, 19.22, 22.63, 24.86, 20.33, 15.57, 15.83, 15.08]\n",
    "print(birthrate)\n",
    "print(deathrate)\n",
    "print(maturerate)"
   ]
  },
  {
   "cell_type": "code",
   "execution_count": 39,
   "metadata": {},
   "outputs": [
    {
     "data": {
      "text/html": [
       "<div>\n",
       "<style scoped>\n",
       "    .dataframe tbody tr th:only-of-type {\n",
       "        vertical-align: middle;\n",
       "    }\n",
       "\n",
       "    .dataframe tbody tr th {\n",
       "        vertical-align: top;\n",
       "    }\n",
       "\n",
       "    .dataframe thead th {\n",
       "        text-align: right;\n",
       "    }\n",
       "</style>\n",
       "<table border=\"1\" class=\"dataframe\">\n",
       "  <thead>\n",
       "    <tr style=\"text-align: right;\">\n",
       "      <th></th>\n",
       "      <th>values</th>\n",
       "    </tr>\n",
       "  </thead>\n",
       "  <tbody>\n",
       "    <tr>\n",
       "      <th>children</th>\n",
       "      <td>4.730000e+01</td>\n",
       "    </tr>\n",
       "    <tr>\n",
       "      <th>t_pop</th>\n",
       "      <td>1.513258e+02</td>\n",
       "    </tr>\n",
       "    <tr>\n",
       "      <th>ratio</th>\n",
       "      <td>3.125706e-13</td>\n",
       "    </tr>\n",
       "  </tbody>\n",
       "</table>\n",
       "</div>"
      ],
      "text/plain": [
       "children    4.730000e+01\n",
       "t_pop       1.513258e+02\n",
       "ratio       3.125706e-13\n",
       "dtype: float64"
      ]
     },
     "execution_count": 39,
     "metadata": {},
     "output_type": "execute_result"
    }
   ],
   "source": [
    "state = State(children = 47.3, t_pop= 151325798.0/1e6, ratio = 47.3/151325798.0/1e6)"
   ]
  },
  {
   "cell_type": "markdown",
   "metadata": {},
   "source": [
    "Parameters:"
   ]
  },
  {
   "cell_type": "code",
   "execution_count": 40,
   "metadata": {},
   "outputs": [
    {
     "data": {
      "text/html": [
       "<div>\n",
       "<style scoped>\n",
       "    .dataframe tbody tr th:only-of-type {\n",
       "        vertical-align: middle;\n",
       "    }\n",
       "\n",
       "    .dataframe tbody tr th {\n",
       "        vertical-align: top;\n",
       "    }\n",
       "\n",
       "    .dataframe thead th {\n",
       "        text-align: right;\n",
       "    }\n",
       "</style>\n",
       "<table border=\"1\" class=\"dataframe\">\n",
       "  <thead>\n",
       "    <tr style=\"text-align: right;\">\n",
       "      <th></th>\n",
       "      <th>values</th>\n",
       "    </tr>\n",
       "  </thead>\n",
       "  <tbody>\n",
       "    <tr>\n",
       "      <th>birthrate</th>\n",
       "      <td>[29.06, 25.03, 19.22, 22.63, 24.86, 20.33, 15....</td>\n",
       "    </tr>\n",
       "    <tr>\n",
       "      <th>maturerate</th>\n",
       "      <td>[31.5, 29.06, 25.03, 19.22, 22.63, 24.86, 20.3...</td>\n",
       "    </tr>\n",
       "    <tr>\n",
       "      <th>deathrate</th>\n",
       "      <td>[0.0065, 0.006122222222222222, 0.0057444444444...</td>\n",
       "    </tr>\n",
       "    <tr>\n",
       "      <th>t_0</th>\n",
       "      <td>1910</td>\n",
       "    </tr>\n",
       "    <tr>\n",
       "      <th>t_end</th>\n",
       "      <td>2010</td>\n",
       "    </tr>\n",
       "    <tr>\n",
       "      <th>state</th>\n",
       "      <td>children    4.730000e+01\n",
       "t_pop       1.513258e...</td>\n",
       "    </tr>\n",
       "  </tbody>\n",
       "</table>\n",
       "</div>"
      ],
      "text/plain": [
       "birthrate     [29.06, 25.03, 19.22, 22.63, 24.86, 20.33, 15....\n",
       "maturerate    [31.5, 29.06, 25.03, 19.22, 22.63, 24.86, 20.3...\n",
       "deathrate     [0.0065, 0.006122222222222222, 0.0057444444444...\n",
       "t_0                                                        1910\n",
       "t_end                                                      2010\n",
       "state         children    4.730000e+01\n",
       "t_pop       1.513258e...\n",
       "dtype: object"
      ]
     },
     "execution_count": 40,
     "metadata": {},
     "output_type": "execute_result"
    }
   ],
   "source": [
    "system = System(birthrate = birthrate,\n",
    "                maturerate = maturerate,\n",
    "                deathrate = deathrate,\n",
    "                t_0 = 1910.0,\n",
    "                t_end = 2010.0,\n",
    "                state=state)"
   ]
  },
  {
   "cell_type": "markdown",
   "metadata": {},
   "source": [
    "Our update function computes the updated state of these parameters at the end of each ten year increment. "
   ]
  },
  {
   "cell_type": "code",
   "execution_count": 41,
   "metadata": {},
   "outputs": [],
   "source": [
    "def update_func1(state, t, system):\n",
    "    t_pop=151325798.0\n",
    "\n",
    "    if t == 1910:\n",
    "        i = int((t-1910)/10)\n",
    "    else: \n",
    "        i = int((t-1910)/10 - 1)\n",
    "    \n",
    "    mrate = system.maturerate \n",
    "    brate = system.birthrate\n",
    "    drate = system.deathrate\n",
    "\n",
    "    \n",
    "    births = brate[i]/100 * state.children #metric\n",
    "    maturings = mrate[i]/100 * state.children #metric\n",
    "    deaths = drate[i]/100 * state.children #metric\n",
    "\n",
    "    population = state.children + births - maturings - deaths\n",
    "        #print('children',children)\n",
    "        \n",
    "    return State(children=population)"
   ]
  },
  {
   "cell_type": "markdown",
   "metadata": {},
   "source": [
    "To test our update function, we'll input the initial condition:"
   ]
  },
  {
   "cell_type": "code",
   "execution_count": 42,
   "metadata": {},
   "outputs": [
    {
     "data": {
      "text/html": [
       "<div>\n",
       "<style scoped>\n",
       "    .dataframe tbody tr th:only-of-type {\n",
       "        vertical-align: middle;\n",
       "    }\n",
       "\n",
       "    .dataframe tbody tr th {\n",
       "        vertical-align: top;\n",
       "    }\n",
       "\n",
       "    .dataframe thead th {\n",
       "        text-align: right;\n",
       "    }\n",
       "</style>\n",
       "<table border=\"1\" class=\"dataframe\">\n",
       "  <thead>\n",
       "    <tr style=\"text-align: right;\">\n",
       "      <th></th>\n",
       "      <th>values</th>\n",
       "    </tr>\n",
       "  </thead>\n",
       "  <tbody>\n",
       "    <tr>\n",
       "      <th>children</th>\n",
       "      <td>46.142805</td>\n",
       "    </tr>\n",
       "  </tbody>\n",
       "</table>\n",
       "</div>"
      ],
      "text/plain": [
       "children    46.142805\n",
       "dtype: float64"
      ]
     },
     "execution_count": 42,
     "metadata": {},
     "output_type": "execute_result"
    }
   ],
   "source": [
    "update_func1(state,system.t_0,system)"
   ]
  },
  {
   "cell_type": "code",
   "execution_count": 43,
   "metadata": {},
   "outputs": [],
   "source": [
    "def run_simulation(state, system, update_func):\n",
    "    \"\"\"Simulate the system using any update function.\n",
    "    \n",
    "    state: initial State object\n",
    "    system: System object\n",
    "    update_func: function that computes the population next year\n",
    "    \n",
    "    returns: TimeSeries of Ratios\n",
    "    \"\"\"\n",
    "    #t_pop=151325798.0\n",
    "    results = TimeSeries()\n",
    "    state = system.state\n",
    "    results[system.t_0] = state.children\n",
    "    \n",
    "    \n",
    "    for t in linrange(1910.0, 2020.0):\n",
    "        if t%10 == 0:\n",
    "            '''if t == 1910:\n",
    "                i = int((t-1910)/10)\n",
    "            else: \n",
    "                i = int((t-1910)/10 - 1)'''\n",
    "            state.children = update_func1(state, t, system)\n",
    "            results[t] = state.children\n",
    "        \n",
    "    return results"
   ]
  },
  {
   "cell_type": "code",
   "execution_count": 44,
   "metadata": {},
   "outputs": [
    {
     "name": "stdout",
     "output_type": "stream",
     "text": [
      "92.228496\n"
     ]
    }
   ],
   "source": [
    "print(population[1910])"
   ]
  },
  {
   "cell_type": "code",
   "execution_count": 45,
   "metadata": {},
   "outputs": [
    {
     "data": {
      "text/plain": [
       "'def update_ratio(state, t, system):\\n    childpop = state.children\\n    popu = population[t]\\n    \\n    ratio = childpop/popu \\n    return State(ratio = ratio)\\n                 \\ndef run_ratio(state, system, update_ratio):\\n    results = TimeSeries()\\n    results[system.t_0] = state.ratio\\n    \\n    for t in linrange(1910.0, 2020.0):\\n        if t%10 == 0:\\n            results[t] = update_ratio(state, t, system)'"
      ]
     },
     "execution_count": 45,
     "metadata": {},
     "output_type": "execute_result"
    }
   ],
   "source": [
    "'''def update_ratio(state, t, system):\n",
    "    childpop = state.children\n",
    "    popu = population[t]\n",
    "    \n",
    "    ratio = childpop/popu \n",
    "    return State(ratio = ratio)\n",
    "                 \n",
    "def run_ratio(state, system, update_ratio):\n",
    "    results = TimeSeries()\n",
    "    results[system.t_0] = state.ratio\n",
    "    \n",
    "    for t in linrange(1910.0, 2020.0):\n",
    "        if t%10 == 0:\n",
    "            results[t] = update_ratio(state, t, system)'''"
   ]
  },
  {
   "cell_type": "code",
   "execution_count": 46,
   "metadata": {},
   "outputs": [
    {
     "name": "stdout",
     "output_type": "stream",
     "text": [
      "1910    0.500310\n",
      "1920    0.424573\n",
      "1930    0.350618\n",
      "1940    0.307835\n",
      "1950    0.278010\n",
      "1960    0.239825\n",
      "1970    0.202035\n",
      "1980    0.172592\n",
      "1990    0.157614\n",
      "2000    0.138243\n",
      "2010    0.124606\n",
      "dtype: float64\n"
     ]
    }
   ],
   "source": [
    "childseries = run_simulation(state, system, update_func1)\n",
    "\n",
    "for t in linrange(1910.0, 2020.0):\n",
    "    if t%10 == 0:\n",
    "        ratioseries[t] = childseries[t]/population[t]\n",
    "\n",
    "print(ratioseries)"
   ]
  },
  {
   "cell_type": "code",
   "execution_count": 47,
   "metadata": {},
   "outputs": [
    {
     "data": {
      "image/png": "[encoded data removed]",
      "text/plain": [
       "<Figure size 432x288 with 1 Axes>"
      ]
     },
     "metadata": {},
     "output_type": "display_data"
    }
   ],
   "source": [
    "empty = TimeSeries()\n",
    "fig1 = plot_results(population, childseries, 'Population of children in U.S.')\n"
   ]
  },
  {
   "cell_type": "code",
   "execution_count": 48,
   "metadata": {},
   "outputs": [
    {
     "data": {
      "image/png": "[encoded data removed]",
      "text/plain": [
       "<Figure size 432x288 with 1 Axes>"
      ]
     },
     "metadata": {},
     "output_type": "display_data"
    }
   ],
   "source": [
    "fig2 = plot_ratio(ratioseries, 'Ratio of children in the U.S.')"
   ]
  },
  {
   "cell_type": "markdown",
   "metadata": {},
   "source": [
    "## Interpretation \n",
    "<bk> \n",
    "    The model above uses birth rates and child mortality rates to model the decline of child population in the United States. According to the model, the population of children shrunk from 46.14 million in 1910 to 38.47 million in 2010. The first model predicts that even as the population as a whole grows, the lower birth rate will cause the population of children to decrease. The second model, showing a ratio of the overall population to the child population, allows us to conclude that a decreased birth rate over time could easily lead to the declining population that we see today. \n",
    "<bk>\n",
    "Although this model allows us to conclude that birth rate and mortality rate has a definite effect on the child population as a whole, it does not allow us to conclude decisively why the population of children is decreasing. \n",
    "<bk>\n",
    "In the future, we could build a model that takes into account more parameters, such as immigration rate, and attempt to build a model that fits all facets of the data. We could also explore how different portions of the population, not just children, are aging and changing the demographics of our society. \n"
   ]
  },
  {
   "cell_type": "code",
   "execution_count": null,
   "metadata": {},
   "outputs": [],
   "source": []
  }
 ],
 "metadata": {
  "kernelspec": {
   "display_name": "Python 3",
   "language": "python",
   "name": "python3"
  },
  "language_info": {
   "codemirror_mode": {
    "name": "ipython",
    "version": 3
   },
   "file_extension": ".py",
   "mimetype": "text/x-python",
   "name": "python",
   "nbconvert_exporter": "python",
   "pygments_lexer": "ipython3",
   "version": "3.6.5"
  }
 },
 "nbformat": 4,
 "nbformat_minor": 2
}
