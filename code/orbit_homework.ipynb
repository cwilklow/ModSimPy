{
 "cells": [
  {
   "cell_type": "markdown",
   "metadata": {},
   "source": [
    "# Orbit Homework\n",
    "\n",
    "Corinne Wilklow\n"
   ]
  },
  {
   "cell_type": "code",
   "execution_count": 70,
   "metadata": {},
   "outputs": [
    {
     "name": "stdout",
     "output_type": "stream",
     "text": [
      "done\n"
     ]
    }
   ],
   "source": [
    "# Configure Jupyter so figures appear in the notebook\n",
    "%matplotlib inline\n",
    "\n",
    "# Configure Jupyter to display the assigned value after an assignment\n",
    "%config InteractiveShell.ast_node_interactivity='last_expr_or_assign'\n",
    "\n",
    "# import functions from the modsim.py module\n",
    "from modsim import *\n",
    "\n",
    "import numpy as np\n",
    "\n",
    "print('done')"
   ]
  },
  {
   "cell_type": "markdown",
   "metadata": {},
   "source": [
    "### Earth falling into the sun\n",
    "\n",
    "Here's a question from the web site [Ask an Astronomer](http://curious.astro.cornell.edu/about-us/39-our-solar-system/the-earth/other-catastrophes/57-how-long-would-it-take-the-earth-to-fall-into-the-sun-intermediate):\n",
    "\n",
    "\"If the Earth suddenly stopped orbiting the Sun, I know eventually it would be pulled in by the Sun's gravity and hit it. How long would it take the Earth to hit the Sun? I imagine it would go slowly at first and then pick up speed.\"\n",
    "\n",
    "Here's a solution."
   ]
  },
  {
   "cell_type": "code",
   "execution_count": 71,
   "metadata": {},
   "outputs": [
    {
     "data": {
      "text/html": [
       "meter"
      ],
      "text/latex": [
       "$meter$"
      ],
      "text/plain": [
       "<Unit('meter')>"
      ]
     },
     "execution_count": 71,
     "metadata": {},
     "output_type": "execute_result"
    }
   ],
   "source": [
    "# Here are the units we'll need\n",
    "\n",
    "s = UNITS.second\n",
    "N = UNITS.newton\n",
    "kg = UNITS.kilogram\n",
    "m = UNITS.meter"
   ]
  },
  {
   "cell_type": "code",
   "execution_count": 72,
   "metadata": {},
   "outputs": [
    {
     "data": {
      "text/html": [
       "<div>\n",
       "<style scoped>\n",
       "    .dataframe tbody tr th:only-of-type {\n",
       "        vertical-align: middle;\n",
       "    }\n",
       "\n",
       "    .dataframe tbody tr th {\n",
       "        vertical-align: top;\n",
       "    }\n",
       "\n",
       "    .dataframe thead th {\n",
       "        text-align: right;\n",
       "    }\n",
       "</style>\n",
       "<table border=\"1\" class=\"dataframe\">\n",
       "  <thead>\n",
       "    <tr style=\"text-align: right;\">\n",
       "      <th></th>\n",
       "      <th>values</th>\n",
       "    </tr>\n",
       "  </thead>\n",
       "  <tbody>\n",
       "    <tr>\n",
       "      <th>x</th>\n",
       "      <td>0 meter</td>\n",
       "    </tr>\n",
       "    <tr>\n",
       "      <th>y</th>\n",
       "      <td>147000000000.0 meter</td>\n",
       "    </tr>\n",
       "    <tr>\n",
       "      <th>vx</th>\n",
       "      <td>30330.0 meter / second</td>\n",
       "    </tr>\n",
       "    <tr>\n",
       "      <th>vy</th>\n",
       "      <td>0.0 meter / second</td>\n",
       "    </tr>\n",
       "  </tbody>\n",
       "</table>\n",
       "</div>"
      ],
      "text/plain": [
       "x                    0 meter\n",
       "y       147000000000.0 meter\n",
       "vx    30330.0 meter / second\n",
       "vy        0.0 meter / second\n",
       "dtype: object"
      ]
     },
     "execution_count": 72,
     "metadata": {},
     "output_type": "execute_result"
    }
   ],
   "source": [
    "# And an inition condition (with everything in SI units)\n",
    "\n",
    "#r_0 = 147e9 * m\n",
    "G = 6.674e-11 * N / kg**2 * m**2\n",
    "\n",
    "m1 = 1.989e30 * kg #mass of sun\n",
    "m2 = 5.972e24 * kg #mass of earth\n",
    "\n",
    "t_0 = 0 * s\n",
    "t_end = 60*60*24*7*52 *s\n",
    "\n",
    "x_0 = 0 * m\n",
    "y_0 = 147e9 * m\n",
    "vx_0 = 30330 * m/s\n",
    "vy_0 = 0 * m/s\n",
    "\n",
    "init = State(x = x_0, y = y_0 , vx = vx_0, vy = vy_0)"
   ]
  },
  {
   "cell_type": "code",
   "execution_count": 73,
   "metadata": {},
   "outputs": [
    {
     "data": {
      "text/html": [
       "<div>\n",
       "<style scoped>\n",
       "    .dataframe tbody tr th:only-of-type {\n",
       "        vertical-align: middle;\n",
       "    }\n",
       "\n",
       "    .dataframe tbody tr th {\n",
       "        vertical-align: top;\n",
       "    }\n",
       "\n",
       "    .dataframe thead th {\n",
       "        text-align: right;\n",
       "    }\n",
       "</style>\n",
       "<table border=\"1\" class=\"dataframe\">\n",
       "  <thead>\n",
       "    <tr style=\"text-align: right;\">\n",
       "      <th></th>\n",
       "      <th>values</th>\n",
       "    </tr>\n",
       "  </thead>\n",
       "  <tbody>\n",
       "    <tr>\n",
       "      <th>init</th>\n",
       "      <td>x                    0 meter\n",
       "y       147000000...</td>\n",
       "    </tr>\n",
       "    <tr>\n",
       "      <th>G</th>\n",
       "      <td>6.674e-11 meter ** 2 * newton / kilogram ** 2</td>\n",
       "    </tr>\n",
       "    <tr>\n",
       "      <th>m1</th>\n",
       "      <td>1.989e+30 kilogram</td>\n",
       "    </tr>\n",
       "    <tr>\n",
       "      <th>r_final</th>\n",
       "      <td>701879000.0 meter</td>\n",
       "    </tr>\n",
       "    <tr>\n",
       "      <th>m2</th>\n",
       "      <td>5.972e+24 kilogram</td>\n",
       "    </tr>\n",
       "    <tr>\n",
       "      <th>t_0</th>\n",
       "      <td>0 second</td>\n",
       "    </tr>\n",
       "    <tr>\n",
       "      <th>t_end</th>\n",
       "      <td>31449600 second</td>\n",
       "    </tr>\n",
       "  </tbody>\n",
       "</table>\n",
       "</div>"
      ],
      "text/plain": [
       "init       x                    0 meter\n",
       "y       147000000...\n",
       "G              6.674e-11 meter ** 2 * newton / kilogram ** 2\n",
       "m1                                        1.989e+30 kilogram\n",
       "r_final                                    701879000.0 meter\n",
       "m2                                        5.972e+24 kilogram\n",
       "t_0                                                 0 second\n",
       "t_end                                        31449600 second\n",
       "dtype: object"
      ]
     },
     "execution_count": 73,
     "metadata": {},
     "output_type": "execute_result"
    }
   ],
   "source": [
    "# Making a system object\n",
    "\n",
    "r_earth = 6.371e6 * m\n",
    "r_sun = 695.508e6 * m\n",
    "\n",
    "system = System(init=init,\n",
    "                G=G,\n",
    "                m1=m1,\n",
    "                r_final=r_sun + r_earth,\n",
    "                m2=m2,\n",
    "                t_0=t_0,\n",
    "                t_end=t_end)"
   ]
  },
  {
   "cell_type": "code",
   "execution_count": 74,
   "metadata": {},
   "outputs": [],
   "source": [
    "# Here's a function that computes the force of gravity\n",
    "\n",
    "def universal_gravitation(state, system):\n",
    "    \"\"\"Computes gravitational force.\n",
    "    \n",
    "    state: State object with distance r\n",
    "    system: System object with m1, m2, and G\n",
    "    \"\"\"\n",
    "    x, y, vx, vy = state\n",
    "    unpack(system)\n",
    "    r = Vector(x,y)\n",
    "    angle = r.angle\n",
    "    force = G * m1 * m2 / r.mag**2 \n",
    "    \n",
    "    fx, fy = pol2cart(angle, force)\n",
    "    Force = Vector(fx,fy)\n",
    "    return Force"
   ]
  },
  {
   "cell_type": "code",
   "execution_count": 75,
   "metadata": {},
   "outputs": [
    {
     "data": {
      "text/html": [
       "0.7853981633974483 radian"
      ],
      "text/latex": [
       "$0.7853981633974483 radian$"
      ],
      "text/plain": [
       "<Quantity(0.7853981633974483, 'radian')>"
      ]
     },
     "execution_count": 75,
     "metadata": {},
     "output_type": "execute_result"
    }
   ],
   "source": [
    "test = Vector(1,1)\n",
    "test.mag\n",
    "test.angle"
   ]
  },
  {
   "cell_type": "code",
   "execution_count": 76,
   "metadata": {},
   "outputs": [
    {
     "data": {
      "text/html": [
       "[2.24639938e+06 3.66864860e+22] newton"
      ],
      "text/latex": [
       "$[2.24639938e+06 3.66864860e+22] newton$"
      ],
      "text/plain": [
       "<Quantity([2.24639938e+06 3.66864860e+22], 'newton')>"
      ]
     },
     "execution_count": 76,
     "metadata": {},
     "output_type": "execute_result"
    }
   ],
   "source": [
    "universal_gravitation(init, system)"
   ]
  },
  {
   "cell_type": "code",
   "execution_count": 77,
   "metadata": {},
   "outputs": [],
   "source": [
    "# The slope function\n",
    "\n",
    "def slope_func(state, t, system):\n",
    "    \"\"\"Compute derivatives of the state.\n",
    "    \n",
    "    state: position, velocity\n",
    "    t: time\n",
    "    system: System object containing `g`\n",
    "    \n",
    "    returns: derivatives of y and v\n",
    "    \"\"\"\n",
    "    x, y, vx, vy = state\n",
    "    unpack(system)\n",
    "    \n",
    "    v = Vector(vx,vy)\n",
    "\n",
    "    force = universal_gravitation(state, system)\n",
    "    \n",
    "    dxdt = vx\n",
    "    dydt = vy\n",
    "    print(v.x)\n",
    "    \n",
    "    dvxdt = -force.x / m2\n",
    "    dvydt = -force.y / m2\n",
    "    print(force.x)\n",
    "    \n",
    "    return dxdt, dydt, dvxdt, dvydt"
   ]
  },
  {
   "cell_type": "code",
   "execution_count": 78,
   "metadata": {},
   "outputs": [],
   "source": [
    "def universal_gravitation_2(state,system):\n",
    "    \n",
    "    x, y, vx, vy = state\n",
    "    unpack(system)\n",
    "    \n",
    "    r = Vector(x,y)\n",
    "    \n",
    "    force = (G*m1*m2/r.mag**2)\n",
    "    direction = -r.hat()\n",
    "    forcevec = direction * force\n",
    "\n",
    "    return forcevec"
   ]
  },
  {
   "cell_type": "code",
   "execution_count": 79,
   "metadata": {},
   "outputs": [
    {
     "name": "stdout",
     "output_type": "stream",
     "text": [
      "30330.0 meter / second\n",
      "2246399.3824401917 newton\n"
     ]
    },
    {
     "data": {
      "text/plain": [
       "(<Quantity(30330.0, 'meter / second')>,\n",
       " <Quantity(0.0, 'meter / second')>,\n",
       " <Quantity(-3.761552884193221e-19, 'newton / kilogram')>,\n",
       " <Quantity(-0.006143082049146188, 'newton / kilogram')>)"
      ]
     },
     "execution_count": 79,
     "metadata": {},
     "output_type": "execute_result"
    }
   ],
   "source": [
    "# Always test the slope function!\n",
    "\n",
    "slope_func(init, 0, system)"
   ]
  },
  {
   "cell_type": "code",
   "execution_count": 80,
   "metadata": {},
   "outputs": [],
   "source": [
    "# Here's an event function that stops the simulation\n",
    "# before the collision\n",
    "\n",
    "def event_func(state, t, system):\n",
    "    x, y, vx, vy = state\n",
    "    r = Vector(x,y)\n",
    "    return r.y - system.r_final"
   ]
  },
  {
   "cell_type": "code",
   "execution_count": 81,
   "metadata": {},
   "outputs": [
    {
     "data": {
      "text/html": [
       "146298121000.0 meter"
      ],
      "text/latex": [
       "$146298121000.0 meter$"
      ],
      "text/plain": [
       "<Quantity(146298121000.0, 'meter')>"
      ]
     },
     "execution_count": 81,
     "metadata": {},
     "output_type": "execute_result"
    }
   ],
   "source": [
    "# Always test the event function!\n",
    "\n",
    "event_func(init, 0, system)"
   ]
  },
  {
   "cell_type": "code",
   "execution_count": 82,
   "metadata": {},
   "outputs": [
    {
     "data": {
      "text/html": [
       "[       0.           158038.19095477   316076.38190955   474114.57286432   632152.7638191    790190.95477387   948229.14572864  1106267.33668342  1264305.52763819  1422343.71859296  1580381.90954774  1738420.10050251  1896458.29145729  2054496.48241206  2212534.67336683  2370572.86432161  2528611.05527638  2686649.24623116  2844687.43718593  3002725.6281407  3160763.81909548  3318802.01005025  3476840.20100502  3634878.3919598  3792916.58291457  3950954.77386935  4108992.96482412  4267031.15577889  4425069.34673367  4583107.53768844  4741145.72864322  4899183.91959799  5057222.11055276  5215260.30150754  5373298.49246231  5531336.68341709  5689374.87437186  5847413.06532663  6005451.25628141  6163489.44723618  6321527.63819095  6479565.82914573  6637604.0201005   6795642.21105528  6953680.40201005  7111718.59296482  7269756.7839196   7427794.97487437  7585833.16582915  7743871.35678392  7901909.54773869  8059947.73869347  8217985.92964824  8376024.12060301  8534062.31155779  8692100.50251256  8850138.69346734  9008176.88442211  9166215.07537688  9324253.26633166  9482291.45728643  9640329.64824121  9798367.83919598  9956406.03015075 10114444.22110553 10272482.4120603  10430520.60301507 10588558.79396985 10746596.98492462 10904635.1758794  11062673.36683417 11220711.55778894 11378749.74874372 11536787.93969849 11694826.13065327 11852864.32160804 12010902.51256281 12168940.70351759 12326978.89447236 12485017.08542714 12643055.27638191 12801093.46733668 12959131.65829146 13117169.84924623 13275208.040201   13433246.23115578 13591284.42211055 13749322.61306533 13907360.8040201  14065398.99497487 14223437.18592965 14381475.37688442 14539513.5678392  14697551.75879397 14855589.94974874 15013628.14070352 15171666.33165829 15329704.52261307 15487742.71356784 15645780.90452261 15803819.09547739 15961857.28643216 16119895.47738693 16277933.66834171 16435971.85929648 16594010.05025125 16752048.24120603 16910086.4321608 17068124.62311558 17226162.81407035 17384201.00502513 17542239.1959799 17700277.38693467 17858315.57788945 18016353.76884422 18174391.959799 18332430.15075377 18490468.34170854 18648506.53266332 18806544.72361809 18964582.91457286 19122621.10552764 19280659.29648241 19438697.48743718 19596735.67839196 19754773.86934673 19912812.06030151 20070850.25125628 20228888.44221105 20386926.63316583 20544964.8241206  20703003.01507537 20861041.20603015 21019079.39698492 21177117.5879397  21335155.77889447 21493193.96984924 21651232.16080402 21809270.35175879 21967308.54271357 22125346.73366834 22283384.92462311 22441423.11557789 22599461.30653266 22757499.49748744 22915537.68844221 23073575.87939698 23231614.07035176 23389652.26130653 23547690.45226131 23705728.64321608 23863766.83417085 24021805.02512563 24179843.2160804  24337881.40703518 24495919.59798995 24653957.78894472 24811995.9798995  24970034.17085427 25128072.36180905 25286110.55276382 25444148.74371859 25602186.93467337 25760225.12562814 25918263.31658291 26076301.50753769 26234339.69849246 26392377.88944723 26550416.08040201 26708454.27135678 26866492.46231155 27024530.65326633 27182568.8442211  27340607.03517588 27498645.22613065 27656683.41708542 27814721.6080402  27972759.79899497 28130797.98994975 28288836.18090452 28446874.37185929 28604912.56281407 28762950.75376884 28920988.94472362 29079027.13567839 29237065.32663316 29395103.51758794 29553141.70854271 29711179.89949749 29869218.09045226 30027256.28140703 30185294.47236181 30343332.66331658 30501370.85427136 30659409.04522613 30817447.2361809 30975485.42713568 31133523.61809045 31291561.80904523 31449600.        ] second"
      ],
      "text/latex": [
       "$[       0.           158038.19095477   316076.38190955   474114.57286432   632152.7638191    790190.95477387   948229.14572864  1106267.33668342  1264305.52763819  1422343.71859296  1580381.90954774  1738420.10050251  1896458.29145729  2054496.48241206  2212534.67336683  2370572.86432161  2528611.05527638  2686649.24623116  2844687.43718593  3002725.6281407  3160763.81909548  3318802.01005025  3476840.20100502  3634878.3919598  3792916.58291457  3950954.77386935  4108992.96482412  4267031.15577889  4425069.34673367  4583107.53768844  4741145.72864322  4899183.91959799  5057222.11055276  5215260.30150754  5373298.49246231  5531336.68341709  5689374.87437186  5847413.06532663  6005451.25628141  6163489.44723618  6321527.63819095  6479565.82914573  6637604.0201005   6795642.21105528  6953680.40201005  7111718.59296482  7269756.7839196   7427794.97487437  7585833.16582915  7743871.35678392  7901909.54773869  8059947.73869347  8217985.92964824  8376024.12060301  8534062.31155779  8692100.50251256  8850138.69346734  9008176.88442211  9166215.07537688  9324253.26633166  9482291.45728643  9640329.64824121  9798367.83919598  9956406.03015075 10114444.22110553 10272482.4120603  10430520.60301507 10588558.79396985 10746596.98492462 10904635.1758794  11062673.36683417 11220711.55778894 11378749.74874372 11536787.93969849 11694826.13065327 11852864.32160804 12010902.51256281 12168940.70351759 12326978.89447236 12485017.08542714 12643055.27638191 12801093.46733668 12959131.65829146 13117169.84924623 13275208.040201   13433246.23115578 13591284.42211055 13749322.61306533 13907360.8040201  14065398.99497487 14223437.18592965 14381475.37688442 14539513.5678392  14697551.75879397 14855589.94974874 15013628.14070352 15171666.33165829 15329704.52261307 15487742.71356784 15645780.90452261 15803819.09547739 15961857.28643216 16119895.47738693 16277933.66834171 16435971.85929648 16594010.05025125 16752048.24120603 16910086.4321608 17068124.62311558 17226162.81407035 17384201.00502513 17542239.1959799 17700277.38693467 17858315.57788945 18016353.76884422 18174391.959799 18332430.15075377 18490468.34170854 18648506.53266332 18806544.72361809 18964582.91457286 19122621.10552764 19280659.29648241 19438697.48743718 19596735.67839196 19754773.86934673 19912812.06030151 20070850.25125628 20228888.44221105 20386926.63316583 20544964.8241206  20703003.01507537 20861041.20603015 21019079.39698492 21177117.5879397  21335155.77889447 21493193.96984924 21651232.16080402 21809270.35175879 21967308.54271357 22125346.73366834 22283384.92462311 22441423.11557789 22599461.30653266 22757499.49748744 22915537.68844221 23073575.87939698 23231614.07035176 23389652.26130653 23547690.45226131 23705728.64321608 23863766.83417085 24021805.02512563 24179843.2160804  24337881.40703518 24495919.59798995 24653957.78894472 24811995.9798995  24970034.17085427 25128072.36180905 25286110.55276382 25444148.74371859 25602186.93467337 25760225.12562814 25918263.31658291 26076301.50753769 26234339.69849246 26392377.88944723 26550416.08040201 26708454.27135678 26866492.46231155 27024530.65326633 27182568.8442211  27340607.03517588 27498645.22613065 27656683.41708542 27814721.6080402  27972759.79899497 28130797.98994975 28288836.18090452 28446874.37185929 28604912.56281407 28762950.75376884 28920988.94472362 29079027.13567839 29237065.32663316 29395103.51758794 29553141.70854271 29711179.89949749 29869218.09045226 30027256.28140703 30185294.47236181 30343332.66331658 30501370.85427136 30659409.04522613 30817447.2361809 30975485.42713568 31133523.61809045 31291561.80904523 31449600.        ] second$"
      ],
      "text/plain": [
       "<Quantity([       0.           158038.19095477   316076.38190955   474114.57286432\n",
       "   632152.7638191    790190.95477387   948229.14572864  1106267.33668342\n",
       "  1264305.52763819  1422343.71859296  1580381.90954774  1738420.10050251\n",
       "  1896458.29145729  2054496.48241206  2212534.67336683  2370572.86432161\n",
       "  2528611.05527638  2686649.24623116  2844687.43718593  3002725.6281407\n",
       "  3160763.81909548  3318802.01005025  3476840.20100502  3634878.3919598\n",
       "  3792916.58291457  3950954.77386935  4108992.96482412  4267031.15577889\n",
       "  4425069.34673367  4583107.53768844  4741145.72864322  4899183.91959799\n",
       "  5057222.11055276  5215260.30150754  5373298.49246231  5531336.68341709\n",
       "  5689374.87437186  5847413.06532663  6005451.25628141  6163489.44723618\n",
       "  6321527.63819095  6479565.82914573  6637604.0201005   6795642.21105528\n",
       "  6953680.40201005  7111718.59296482  7269756.7839196   7427794.97487437\n",
       "  7585833.16582915  7743871.35678392  7901909.54773869  8059947.73869347\n",
       "  8217985.92964824  8376024.12060301  8534062.31155779  8692100.50251256\n",
       "  8850138.69346734  9008176.88442211  9166215.07537688  9324253.26633166\n",
       "  9482291.45728643  9640329.64824121  9798367.83919598  9956406.03015075\n",
       " 10114444.22110553 10272482.4120603  10430520.60301507 10588558.79396985\n",
       " 10746596.98492462 10904635.1758794  11062673.36683417 11220711.55778894\n",
       " 11378749.74874372 11536787.93969849 11694826.13065327 11852864.32160804\n",
       " 12010902.51256281 12168940.70351759 12326978.89447236 12485017.08542714\n",
       " 12643055.27638191 12801093.46733668 12959131.65829146 13117169.84924623\n",
       " 13275208.040201   13433246.23115578 13591284.42211055 13749322.61306533\n",
       " 13907360.8040201  14065398.99497487 14223437.18592965 14381475.37688442\n",
       " 14539513.5678392  14697551.75879397 14855589.94974874 15013628.14070352\n",
       " 15171666.33165829 15329704.52261307 15487742.71356784 15645780.90452261\n",
       " 15803819.09547739 15961857.28643216 16119895.47738693 16277933.66834171\n",
       " 16435971.85929648 16594010.05025125 16752048.24120603 16910086.4321608\n",
       " 17068124.62311558 17226162.81407035 17384201.00502513 17542239.1959799\n",
       " 17700277.38693467 17858315.57788945 18016353.76884422 18174391.959799\n",
       " 18332430.15075377 18490468.34170854 18648506.53266332 18806544.72361809\n",
       " 18964582.91457286 19122621.10552764 19280659.29648241 19438697.48743718\n",
       " 19596735.67839196 19754773.86934673 19912812.06030151 20070850.25125628\n",
       " 20228888.44221105 20386926.63316583 20544964.8241206  20703003.01507537\n",
       " 20861041.20603015 21019079.39698492 21177117.5879397  21335155.77889447\n",
       " 21493193.96984924 21651232.16080402 21809270.35175879 21967308.54271357\n",
       " 22125346.73366834 22283384.92462311 22441423.11557789 22599461.30653266\n",
       " 22757499.49748744 22915537.68844221 23073575.87939698 23231614.07035176\n",
       " 23389652.26130653 23547690.45226131 23705728.64321608 23863766.83417085\n",
       " 24021805.02512563 24179843.2160804  24337881.40703518 24495919.59798995\n",
       " 24653957.78894472 24811995.9798995  24970034.17085427 25128072.36180905\n",
       " 25286110.55276382 25444148.74371859 25602186.93467337 25760225.12562814\n",
       " 25918263.31658291 26076301.50753769 26234339.69849246 26392377.88944723\n",
       " 26550416.08040201 26708454.27135678 26866492.46231155 27024530.65326633\n",
       " 27182568.8442211  27340607.03517588 27498645.22613065 27656683.41708542\n",
       " 27814721.6080402  27972759.79899497 28130797.98994975 28288836.18090452\n",
       " 28446874.37185929 28604912.56281407 28762950.75376884 28920988.94472362\n",
       " 29079027.13567839 29237065.32663316 29395103.51758794 29553141.70854271\n",
       " 29711179.89949749 29869218.09045226 30027256.28140703 30185294.47236181\n",
       " 30343332.66331658 30501370.85427136 30659409.04522613 30817447.2361809\n",
       " 30975485.42713568 31133523.61809045 31291561.80904523 31449600.        ], 'second')>"
      ]
     },
     "execution_count": 82,
     "metadata": {},
     "output_type": "execute_result"
    }
   ],
   "source": [
    "timestep = linspace(t_0, t_end, 200)"
   ]
  },
  {
   "cell_type": "code",
   "execution_count": 83,
   "metadata": {},
   "outputs": [
    {
     "name": "stdout",
     "output_type": "stream",
     "text": [
      "30330.0 dimensionless\n",
      "2246399.3824401917 meter ** 2 * newton\n",
      "30330.0 dimensionless\n",
      "2246399.3824401917 meter ** 2 * newton\n",
      "30330.0 dimensionless\n",
      "67414689.69766268 meter ** 2 * newton\n",
      "30330.0 dimensionless\n",
      "108144871.14467673 meter ** 2 * newton\n",
      "30330.0 dimensionless\n",
      "279211633.2221358 meter ** 2 * newton\n",
      "30330.0 dimensionless\n",
      "311795778.379747 meter ** 2 * newton\n",
      "30330.0 dimensionless\n",
      "352525959.82676107 meter ** 2 * newton\n",
      "30330.0 dimensionless\n",
      "352525959.82676107 meter ** 2 * newton\n",
      "30330.0 dimensionless\n",
      "1061231117.0048056 meter ** 2 * newton\n",
      "30330.0 dimensionless\n",
      "1411510677.4491265 meter ** 2 * newton\n",
      "30330.0 dimensionless\n",
      "3179200552.2495365 meter ** 2 * newton\n",
      "30330.0 dimensionless\n",
      "3488749931.2468433 meter ** 2 * newton\n",
      "30330.0 dimensionless\n",
      "3879759673.1381783 meter ** 2 * newton\n",
      "30330.0 dimensionless\n",
      "3879759673.1381783 meter ** 2 * newton\n",
      "30330.0 dimensionless\n",
      "10942373136.050415 meter ** 2 * newton\n",
      "30330.0 dimensionless\n",
      "14469606849.361834 meter ** 2 * newton\n",
      "30330.0 dimensionless\n",
      "32113921452.20832 meter ** 2 * newton\n",
      "30330.0 dimensionless\n",
      "35258291459.9178 meter ** 2 * newton\n",
      "30330.0 dimensionless\n",
      "39176534915.12055 meter ** 2 * newton\n",
      "30330.0 dimensionless\n",
      "39176534915.12055 meter ** 2 * newton\n",
      "30330.0 dimensionless\n",
      "109761939362.79591 meter ** 2 * newton\n",
      "30330.0 dimensionless\n",
      "145058714604.7783 meter ** 2 * newton\n",
      "30330.0 dimensionless\n",
      "321534444778.40076 meter ** 2 * newton\n",
      "30330.0 dimensionless\n",
      "352904830528.891 meter ** 2 * newton\n",
      "30330.0 dimensionless\n",
      "392119849226.0761 meter ** 2 * newton\n",
      "30330.0 dimensionless\n",
      "392119849226.0761 meter ** 2 * newton\n",
      "30330.0 dimensionless\n",
      "1098006477847.9874 meter ** 2 * newton\n",
      "30330.0 dimensionless\n",
      "1450949792158.943 meter ** 2 * newton\n",
      "30330.0 dimensionless\n",
      "3215658217677.431 meter ** 2 * newton\n",
      "30330.0 dimensionless\n",
      "3529386513291.2017 meter ** 2 * newton\n",
      "30330.0 dimensionless\n",
      "3921544846299.3423 meter ** 2 * newton\n",
      "30330.0 dimensionless\n",
      "3921544846299.3423 meter ** 2 * newton\n",
      "30330.0 dimensionless\n",
      "10980386694409.586 meter ** 2 * newton\n",
      "30330.0 dimensionless\n",
      "14509811691482.852 meter ** 2 * newton\n",
      "30330.0 dimensionless\n",
      "32156928530812.895 meter ** 2 * newton\n",
      "30330.0 dimensionless\n",
      "35294195194878.02 meter ** 2 * newton\n",
      "30330.0 dimensionless\n",
      "39215778524959.43 meter ** 2 * newton\n",
      "30330.0 dimensionless\n",
      "39215778524959.43 meter ** 2 * newton\n",
      "30330.0 dimensionless\n",
      "109804245882279.61 meter ** 2 * newton\n",
      "30330.0 dimensionless\n",
      "145098479560939.7 meter ** 2 * newton\n",
      "30330.0 dimensionless\n",
      "321569656100276.4 meter ** 2 * newton\n",
      "30330.0 dimensionless\n",
      "352942306448855.06 meter ** 2 * newton\n",
      "30330.0 dimensionless\n",
      "392158123457596.56 meter ** 2 * newton\n",
      "30330.0 dimensionless\n",
      "392158123457596.56 meter ** 2 * newton\n",
      "30329.999999999993 dimensionless\n",
      "1098042821468906.5 meter ** 2 * newton\n",
      "30329.999999999978 dimensionless\n",
      "1450985166401543.2 meter ** 2 * newton\n",
      "30329.999999999887 dimensionless\n",
      "3215696915502833.0 meter ** 2 * newton\n",
      "30329.999999999865 dimensionless\n",
      "3529423443426729.5 meter ** 2 * newton\n",
      "30329.999999999833 dimensionless\n",
      "3921581605368105.5 meter ** 2 * newton\n",
      "30329.999999999833 dimensionless\n",
      "3921581605368105.5 meter ** 2 * newton\n",
      "30329.99999999922 dimensionless\n",
      "1.0980428577334598e+16 meter ** 2 * newton\n",
      "30329.999999997675 dimensionless\n",
      "1.4509852059245278e+16 meter ** 2 * newton\n",
      "30329.999999988566 dimensionless\n",
      "3.2156969468793708e+16 meter ** 2 * newton\n",
      "30329.999999986223 dimensionless\n",
      "3.5294234788761372e+16 meter ** 2 * newton\n",
      "30329.999999982992 dimensionless\n",
      "3.921581644075706e+16 meter ** 2 * newton\n",
      "30329.999999982992 dimensionless\n",
      "3.921581644075706e+16 meter ** 2 * newton\n",
      "30329.999999921754 dimensionless\n",
      "1.0980428609468669e+17 meter ** 2 * newton\n",
      "30329.999999767133 dimensionless\n",
      "1.4509852092209898e+17 meter ** 2 * newton\n",
      "30329.99999885623 dimensionless\n",
      "3.2156969506234995e+17 meter ** 2 * newton\n",
      "30329.99999862217 dimensionless\n",
      "3.529423482361307e+17 meter ** 2 * newton\n",
      "30329.999998298976 dimensionless\n",
      "3.921581647049868e+17 meter ** 2 * newton\n",
      "30329.999998298976 dimensionless\n",
      "3.9215816471313286e+17 meter ** 2 * newton\n",
      "30329.999992175275 dimensionless\n",
      "1.09804286062838e+18 meter ** 2 * newton\n",
      "30329.999976712927 dimensionless\n",
      "1.450985209298243e+18 meter ** 2 * newton\n",
      "30329.999885622863 dimensionless\n",
      "3.2156969439029873e+18 meter ** 2 * newton\n",
      "30329.99986221671 dimensionless\n",
      "3.529423469148643e+18 meter ** 2 * newton\n",
      "30329.999829897173 dimensionless\n",
      "3.9215816321262e+18 meter ** 2 * newton\n",
      "30329.999829897173 dimensionless\n",
      "3.9215816390258924e+18 meter ** 2 * newton\n",
      "30329.999217526987 dimensionless\n",
      "1.0980427940763255e+19 meter ** 2 * newton\n",
      "30329.997671292385 dimensionless\n",
      "1.4509851806689036e+19 meter ** 2 * newton\n",
      "30329.988562284598 dimensionless\n",
      "3.215696239411562e+19 meter ** 2 * newton\n",
      "30329.98622166535 dimensionless\n",
      "3.529422114842556e+19 meter ** 2 * newton\n",
      "30329.982989712065 dimensionless\n",
      "3.9215801012712554e+19 meter ** 2 * newton\n",
      "30329.982989718912 dimensionless\n",
      "3.9215807911957225e+19 meter ** 2 * newton\n",
      "30329.921752713675 dimensionless\n",
      "1.0980361356530142e+20 meter ** 2 * newton\n",
      "30329.767130414843 dimensionless\n",
      "1.450982314515485e+20 meter ** 2 * newton\n",
      "30328.856217074353 dimensionless\n",
      "3.215625789805383e+20 meter ** 2 * newton\n",
      "30328.622112434878 dimensionless\n",
      "3.5292866900405e+20 meter ** 2 * newton\n",
      "30328.29892179375 dimensionless\n",
      "3.921427021114531e+20 meter ** 2 * newton\n",
      "30328.29899027949 dimensionless\n",
      "3.921496005227924e+20 meter ** 2 * newton\n",
      "30322.175422152286 dimensionless\n",
      "1.0973706153768684e+21 meter ** 2 * newton\n",
      "30306.72480092331 dimensionless\n",
      "1.450695367080945e+21 meter ** 2 * newton\n",
      "30215.508041013498 dimensionless\n",
      "3.208610826823491e+21 meter ** 2 * newton\n",
      "30191.67147192293 dimensionless\n",
      "3.515837739692783e+21 meter ** 2 * newton\n",
      "30159.399902619658 dimensionless\n",
      "3.906210826604111e+21 meter ** 2 * newton\n",
      "30160.08281515981 dimensionless\n",
      "3.9130259051780196e+21 meter ** 2 * newton\n",
      "29724.423235842125 dimensionless\n",
      "8.663468923554375e+21 meter ** 2 * newton\n",
      "28911.587672071913 dimensionless\n",
      "1.1302573744309362e+22 meter ** 2 * newton\n",
      "23663.987614858874 dimensionless\n",
      "2.1743463868137547e+22 meter ** 2 * newton\n",
      "21367.583921073445 dimensionless\n",
      "2.2475296300430562e+22 meter ** 2 * newton\n",
      "19855.401368194027 dimensionless\n",
      "2.460093598526309e+22 meter ** 2 * newton\n",
      "21494.748487318793 dimensionless\n",
      "2.57840848623791e+22 meter ** 2 * newton\n",
      "17194.213102588255 dimensionless\n",
      "2.9004132930603285e+22 meter ** 2 * newton\n",
      "14439.738509984945 dimensionless\n",
      "3.19865233560093e+22 meter ** 2 * newton\n",
      "-4073.2627300194763 dimensionless\n",
      "3.7232483350106377e+22 meter ** 2 * newton\n",
      "-14512.578351090524 dimensionless\n",
      "3.924862841800727e+22 meter ** 2 * newton\n",
      "-16775.351261588963 dimensionless\n",
      "3.8722011409208675e+22 meter ** 2 * newton\n",
      "-6340.413524665193 dimensionless\n",
      "3.4483139583859805e+22 meter ** 2 * newton\n",
      "17652.606794697273 dimensionless\n",
      "2.884663169416589e+22 meter ** 2 * newton\n",
      "15218.134705054807 dimensionless\n",
      "3.147346826488751e+22 meter ** 2 * newton\n",
      "-426.93310601716803 dimensionless\n",
      "3.646050995934599e+22 meter ** 2 * newton\n",
      "-8447.696008071325 dimensionless\n",
      "3.782575050459125e+22 meter ** 2 * newton\n",
      "-10683.827491173688 dimensionless\n",
      "3.756469876935054e+22 meter ** 2 * newton\n",
      "-3056.1292428293273 dimensionless\n",
      "3.512170457643735e+22 meter ** 2 * newton\n",
      "-8455.493445383772 dimensionless\n",
      "3.2610252851701256e+22 meter ** 2 * newton\n",
      "-10720.820977589447 dimensionless\n",
      "3.2458914210986634e+22 meter ** 2 * newton\n",
      "-24583.16663507491 dimensionless\n",
      "2.558030261604167e+22 meter ** 2 * newton\n",
      "-31465.977512008158 dimensionless\n",
      "2.777191941410231e+22 meter ** 2 * newton\n",
      "-32093.893007222825 dimensionless\n",
      "2.4418022033155905e+22 meter ** 2 * newton\n",
      "-25102.479842007542 dimensionless\n",
      "1.8362950769186712e+22 meter ** 2 * newton\n",
      "-28150.746759584104 dimensionless\n",
      "1.1936218472497373e+22 meter ** 2 * newton\n",
      "-28474.68123313544 dimensionless\n",
      "8.935561006696901e+21 meter ** 2 * newton\n",
      "-29388.52964866332 dimensionless\n",
      "-5.960758567492882e+21 meter ** 2 * newton\n",
      "-29513.958245757578 dimensionless\n",
      "-4.0004254139062566e+21 meter ** 2 * newton\n",
      "-27492.755140180656 dimensionless\n",
      "-8.651913751001361e+21 meter ** 2 * newton\n",
      "-26732.472663370932 dimensionless\n",
      "-1.4699318405025124e+22 meter ** 2 * newton\n",
      "-27838.263054031213 dimensionless\n",
      "1.2627987063862693e+22 meter ** 2 * newton\n",
      "-28244.9355277382 dimensionless\n",
      "9.981695855898275e+21 meter ** 2 * newton\n",
      "-29796.122596286892 dimensionless\n",
      "-3.575666599595846e+21 meter ** 2 * newton\n",
      "-30224.442270690877 dimensionless\n",
      "-2.7131944607272817e+21 meter ** 2 * newton\n",
      "-28877.233961458303 dimensionless\n",
      "-6.697071240663209e+21 meter ** 2 * newton\n",
      "-27953.740657131442 dimensionless\n",
      "-1.1269265340854773e+22 meter ** 2 * newton\n",
      "-26224.329156173775 dimensionless\n",
      "-1.6723206378534723e+22 meter ** 2 * newton\n",
      "-24418.025033514146 dimensionless\n",
      "-2.0305751544838845e+22 meter ** 2 * newton\n",
      "-12006.083718653968 dimensionless\n",
      "-3.2450504273728587e+22 meter ** 2 * newton\n",
      "-5410.776716814107 dimensionless\n",
      "-3.3831822281957567e+22 meter ** 2 * newton\n",
      "-2781.0053504677453 dimensionless\n",
      "-3.5788619150329754e+22 meter ** 2 * newton\n",
      "-8728.02312517666 dimensionless\n",
      "-3.5268827037569017e+22 meter ** 2 * newton\n",
      "-3065.3113338615112 dimensionless\n",
      "-3.5842661137423614e+22 meter ** 2 * newton\n",
      "-130.30471967991434 dimensionless\n",
      "-3.763459180960865e+22 meter ** 2 * newton\n",
      "18955.767950726637 dimensionless\n",
      "-3.7334426579806783e+22 meter ** 2 * newton\n",
      "29271.341307388146 dimensionless\n",
      "-4.186603870383967e+22 meter ** 2 * newton\n",
      "30558.08726297252 dimensionless\n",
      "-3.873564255154808e+22 meter ** 2 * newton\n",
      "20175.414008211643 dimensionless\n",
      "-2.992167053696087e+22 meter ** 2 * newton\n",
      "24926.937846375207 dimensionless\n",
      "-2.3544474283994035e+22 meter ** 2 * newton\n",
      "26163.422632631533 dimensionless\n",
      "-2.1012994673241986e+22 meter ** 2 * newton\n",
      "32935.08704742613 dimensionless\n",
      "-5.085217627763636e+21 meter ** 2 * newton\n",
      "36261.24602956706 dimensionless\n",
      "-8.830815581059854e+21 meter ** 2 * newton\n",
      "34494.87204410188 dimensionless\n",
      "-2.607729170743377e+21 meter ** 2 * newton\n",
      "30475.39291947149 dimensionless\n",
      "6.430451645571459e+21 meter ** 2 * newton\n",
      "24357.338207175002 dimensionless\n",
      "-2.4434675595217637e+22 meter ** 2 * newton\n",
      "25585.56533634858 dimensionless\n",
      "-2.2271639023476726e+22 meter ** 2 * newton\n",
      "32210.35728712562 dimensionless\n",
      "-8.157062290631079e+21 meter ** 2 * newton\n",
      "35134.88916437659 dimensionless\n",
      "-9.896425319546382e+21 meter ** 2 * newton\n",
      "34313.8378503196 dimensionless\n",
      "-4.898536257546012e+21 meter ** 2 * newton\n",
      "31002.914638247174 dimensionless\n",
      "1.4204190602534194e+21 meter ** 2 * newton\n",
      "30975.87503217859 dimensionless\n",
      "2.4224636212139886e+21 meter ** 2 * newton\n",
      "30940.89554001562 dimensionless\n",
      "2.92629747511846e+21 meter ** 2 * newton\n",
      "30741.202475833 dimensionless\n",
      "5.424813963022782e+21 meter ** 2 * newton\n",
      "30691.607359623868 dimensionless\n",
      "5.856936177631741e+21 meter ** 2 * newton\n",
      "30626.54945128973 dimensionless\n",
      "6.41226764212172e+21 meter ** 2 * newton\n",
      "30629.096790649848 dimensionless\n",
      "6.428378415558653e+21 meter ** 2 * newton\n"
     ]
    },
    {
     "data": {
      "text/html": [
       "<div>\n",
       "<style scoped>\n",
       "    .dataframe tbody tr th:only-of-type {\n",
       "        vertical-align: middle;\n",
       "    }\n",
       "\n",
       "    .dataframe tbody tr th {\n",
       "        vertical-align: top;\n",
       "    }\n",
       "\n",
       "    .dataframe thead th {\n",
       "        text-align: right;\n",
       "    }\n",
       "</style>\n",
       "<table border=\"1\" class=\"dataframe\">\n",
       "  <thead>\n",
       "    <tr style=\"text-align: right;\">\n",
       "      <th></th>\n",
       "      <th>values</th>\n",
       "    </tr>\n",
       "  </thead>\n",
       "  <tbody>\n",
       "    <tr>\n",
       "      <th>sol</th>\n",
       "      <td>None</td>\n",
       "    </tr>\n",
       "    <tr>\n",
       "      <th>t_events</th>\n",
       "      <td>[]</td>\n",
       "    </tr>\n",
       "    <tr>\n",
       "      <th>nfev</th>\n",
       "      <td>152</td>\n",
       "    </tr>\n",
       "    <tr>\n",
       "      <th>njev</th>\n",
       "      <td>0</td>\n",
       "    </tr>\n",
       "    <tr>\n",
       "      <th>nlu</th>\n",
       "      <td>0</td>\n",
       "    </tr>\n",
       "    <tr>\n",
       "      <th>status</th>\n",
       "      <td>0</td>\n",
       "    </tr>\n",
       "    <tr>\n",
       "      <th>message</th>\n",
       "      <td>The solver successfully reached the end of the...</td>\n",
       "    </tr>\n",
       "    <tr>\n",
       "      <th>success</th>\n",
       "      <td>True</td>\n",
       "    </tr>\n",
       "  </tbody>\n",
       "</table>\n",
       "</div>"
      ],
      "text/plain": [
       "sol                                                      None\n",
       "t_events                                                   []\n",
       "nfev                                                      152\n",
       "njev                                                        0\n",
       "nlu                                                         0\n",
       "status                                                      0\n",
       "message     The solver successfully reached the end of the...\n",
       "success                                                  True\n",
       "dtype: object"
      ]
     },
     "execution_count": 83,
     "metadata": {},
     "output_type": "execute_result"
    }
   ],
   "source": [
    "# Finally we can run the simulation\n",
    "\n",
    "results, details = run_ode_solver(system, slope_func, t_eval = timestep )\n",
    "details"
   ]
  },
  {
   "cell_type": "code",
   "execution_count": 84,
   "metadata": {},
   "outputs": [
    {
     "data": {
      "text/html": [
       "31449600.0 second"
      ],
      "text/latex": [
       "$31449600.0 second$"
      ],
      "text/plain": [
       "<Quantity(31449600.0, 'second')>"
      ]
     },
     "execution_count": 84,
     "metadata": {},
     "output_type": "execute_result"
    }
   ],
   "source": [
    "# Here's how long it takes...\n",
    "\n",
    "t_final = get_last_label(results) * s"
   ]
  },
  {
   "cell_type": "code",
   "execution_count": 85,
   "metadata": {},
   "outputs": [
    {
     "data": {
      "text/html": [
       "363.99999999999994 day"
      ],
      "text/latex": [
       "$363.99999999999994 day$"
      ],
      "text/plain": [
       "<Quantity(363.99999999999994, 'day')>"
      ]
     },
     "execution_count": 85,
     "metadata": {},
     "output_type": "execute_result"
    }
   ],
   "source": [
    "# ... expressed in units we understand\n",
    "\n",
    "t_final.to(UNITS.day)"
   ]
  },
  {
   "cell_type": "code",
   "execution_count": 86,
   "metadata": {},
   "outputs": [
    {
     "data": {
      "text/plain": [
       "'ts = linspace(t_0, t_final, 201)\\nresults, details = run_ode_solver(system, slope_func, events=event_func, t_eval=ts)\\ndetails'"
      ]
     },
     "execution_count": 86,
     "metadata": {},
     "output_type": "execute_result"
    }
   ],
   "source": [
    "# Before plotting, we run the simulation again with `t_eval`\n",
    "\n",
    "'''ts = linspace(t_0, t_final, 201)\n",
    "results, details = run_ode_solver(system, slope_func, events=event_func, t_eval=ts)\n",
    "details'''"
   ]
  },
  {
   "cell_type": "code",
   "execution_count": 87,
   "metadata": {},
   "outputs": [],
   "source": [
    "# Scaling the time steps to days\n",
    "\n",
    "results.index /= 60 * 60 * 24"
   ]
  },
  {
   "cell_type": "code",
   "execution_count": 88,
   "metadata": {},
   "outputs": [],
   "source": [
    "# Scaling the distance to million km\n",
    "\n",
    "x = results.x / 1e9;\n",
    "y = results.y / 1e9;"
   ]
  },
  {
   "cell_type": "code",
   "execution_count": 89,
   "metadata": {},
   "outputs": [
    {
     "data": {
      "image/png": "[encoded data removed]",
      "text/plain": [
       "<Figure size 432x288 with 1 Axes>"
      ]
     },
     "metadata": {},
     "output_type": "display_data"
    }
   ],
   "source": [
    "# And plotting\n",
    "\n",
    "plot(x, label='x')\n",
    "plot(y, label='y')\n",
    "\n",
    "decorate(xlabel='Time (day)',\n",
    "         ylabel='Distance from sun (million km)')"
   ]
  },
  {
   "cell_type": "code",
   "execution_count": 90,
   "metadata": {},
   "outputs": [
    {
     "name": "stdout",
     "output_type": "stream",
     "text": [
      "Saving figure to file figs/chap10-fig02.pdf\n"
     ]
    },
    {
     "data": {
      "image/png": "[encoded data removed]",
      "text/plain": [
       "<Figure size 432x288 with 1 Axes>"
      ]
     },
     "metadata": {},
     "output_type": "display_data"
    }
   ],
   "source": [
    "def plot_trajectory(results):\n",
    "    plot(results.x, results.y, label='trajectory')\n",
    "\n",
    "    decorate(xlabel='x position (m)',\n",
    "             ylabel='y position (m)')\n",
    "\n",
    "plot_trajectory(results)\n",
    "savefig('figs/chap10-fig02.pdf')"
   ]
  },
  {
   "cell_type": "code",
   "execution_count": null,
   "metadata": {},
   "outputs": [],
   "source": []
  },
  {
   "cell_type": "code",
   "execution_count": null,
   "metadata": {},
   "outputs": [],
   "source": []
  }
 ],
 "metadata": {
  "kernelspec": {
   "display_name": "Python 3",
   "language": "python",
   "name": "python3"
  },
  "language_info": {
   "codemirror_mode": {
    "name": "ipython",
    "version": 3
   },
   "file_extension": ".py",
   "mimetype": "text/x-python",
   "name": "python",
   "nbconvert_exporter": "python",
   "pygments_lexer": "ipython3",
   "version": "3.6.5"
  }
 },
 "nbformat": 4,
 "nbformat_minor": 2
}
