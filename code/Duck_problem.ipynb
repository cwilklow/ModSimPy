{
 "cells": [
  {
   "cell_type": "code",
   "execution_count": 3,
   "metadata": {},
   "outputs": [
    {
     "name": "stdout",
     "output_type": "stream",
     "text": [
      "done\n"
     ]
    }
   ],
   "source": [
    "%matplotlib inline\n",
    "\n",
    "from modsim import *\n",
    "\n",
    "import numpy as np\n",
    "\n",
    "print('done')"
   ]
  },
  {
   "cell_type": "code",
   "execution_count": 6,
   "metadata": {},
   "outputs": [],
   "source": [
    "rw = 1\n",
    "rd = .3 \n",
    "rd2 = 5\n",
    "system = System(rho_water = rw, rho_duck  = rd, r_duck = rd2)"
   ]
  },
  {
   "cell_type": "code",
   "execution_count": 12,
   "metadata": {},
   "outputs": [],
   "source": [
    "def error_func(d,system):\n",
    "    unpack(system)\n",
    "    \n",
    "    volume_duck = 4 / 3 * np.pi * r_duck**3\n",
    "    mass_duck = rho_duck * volume_duck\n",
    "    volume_water = np.pi / 3 * (3 * r_duck * d**2 - d**3)\n",
    "    mass_water = rho_water * volume_water\n",
    "    \n",
    "    print(d)\n",
    "    \n",
    "    return mass_duck - mass_water"
   ]
  },
  {
   "cell_type": "code",
   "execution_count": 13,
   "metadata": {},
   "outputs": [
    {
     "name": "stdout",
     "output_type": "stream",
     "text": [
      "3\n"
     ]
    },
    {
     "data": {
      "text/plain": [
       "43.982297150257125"
      ]
     },
     "execution_count": 13,
     "metadata": {},
     "output_type": "execute_result"
    }
   ],
   "source": [
    "error_func(3, system)"
   ]
  },
  {
   "cell_type": "code",
   "execution_count": 14,
   "metadata": {},
   "outputs": [
    {
     "name": "stdout",
     "output_type": "stream",
     "text": [
      "3\n",
      "[3]\n",
      "[3.]\n",
      "[3.]\n",
      "[3.00000004]\n",
      "[3.66666666]\n",
      "[3.63105175]\n",
      "[3.63257187]\n",
      "[3.63257491]\n",
      "[3.63257491]\n"
     ]
    },
    {
     "data": {
      "text/plain": [
       "array([3.63257491])"
      ]
     },
     "execution_count": 14,
     "metadata": {},
     "output_type": "execute_result"
    }
   ],
   "source": [
    "fsolve(error_func, 3, system)"
   ]
  },
  {
   "cell_type": "code",
   "execution_count": null,
   "metadata": {},
   "outputs": [],
   "source": []
  }
 ],
 "metadata": {
  "kernelspec": {
   "display_name": "Python 3",
   "language": "python",
   "name": "python3"
  },
  "language_info": {
   "codemirror_mode": {
    "name": "ipython",
    "version": 3
   },
   "file_extension": ".py",
   "mimetype": "text/x-python",
   "name": "python",
   "nbconvert_exporter": "python",
   "pygments_lexer": "ipython3",
   "version": "3.6.5"
  }
 },
 "nbformat": 4,
 "nbformat_minor": 2
}
